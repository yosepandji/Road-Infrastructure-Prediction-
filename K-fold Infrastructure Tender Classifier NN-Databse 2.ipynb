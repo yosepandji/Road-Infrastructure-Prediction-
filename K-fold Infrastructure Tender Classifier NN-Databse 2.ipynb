{
 "cells": [
  {
   "cell_type": "code",
   "execution_count": 23,
   "metadata": {},
   "outputs": [],
   "source": [
    "# Load libraries\n",
    "import numpy as np\n",
    "from keras import models\n",
    "from keras import layers\n",
    "from keras.wrappers.scikit_learn import KerasClassifier\n",
    "from sklearn.model_selection import cross_val_score\n",
    "from sklearn.datasets import make_classification\n",
    "import pandas as pd\n",
    "from keras.wrappers.scikit_learn import KerasRegressor\n",
    "from sklearn.pipeline import Pipeline\n",
    "from sklearn.model_selection import KFold\n"
   ]
  },
  {
   "cell_type": "code",
   "execution_count": 24,
   "metadata": {},
   "outputs": [
    {
     "name": "stdout",
     "output_type": "stream",
     "text": [
      "Index(['Duration (years)', 'Number of Province', 'GDP',\n",
      "       '3 years Average GDP Growth', 'RDP', 'Population', 'c/km2',\n",
      "       'Road Category_National', 'Road Category_Provincial',\n",
      "       'Type of Network Intervention_Modification',\n",
      "       'Type of Network Intervention_New', 'Geographical Profile_Combination',\n",
      "       'Geographical Profile_Rural', 'Geographical Profile_Urban',\n",
      "       'EHS/GHS_No', 'EHS/GHS_Yes', 'Change of Power_No',\n",
      "       'Change of Power_Yes', 'Ideoogy _Center', 'Ideoogy _Center-Left',\n",
      "       'Ideoogy _Center-Right ', 'Ideoogy _CenterLeft'],\n",
      "      dtype='object')\n"
     ]
    },
    {
     "data": {
      "text/html": [
       "<div>\n",
       "<style scoped>\n",
       "    .dataframe tbody tr th:only-of-type {\n",
       "        vertical-align: middle;\n",
       "    }\n",
       "\n",
       "    .dataframe tbody tr th {\n",
       "        vertical-align: top;\n",
       "    }\n",
       "\n",
       "    .dataframe thead th {\n",
       "        text-align: right;\n",
       "    }\n",
       "</style>\n",
       "<table border=\"1\" class=\"dataframe\">\n",
       "  <thead>\n",
       "    <tr style=\"text-align: right;\">\n",
       "      <th></th>\n",
       "      <th>Duration (years)</th>\n",
       "      <th>Number of Province</th>\n",
       "      <th>GDP</th>\n",
       "      <th>3 years Average GDP Growth</th>\n",
       "      <th>RDP</th>\n",
       "      <th>Population</th>\n",
       "      <th>c/km2</th>\n",
       "      <th>Road Category_National</th>\n",
       "      <th>Road Category_Provincial</th>\n",
       "      <th>Type of Network Intervention_Modification</th>\n",
       "      <th>...</th>\n",
       "      <th>Geographical Profile_Rural</th>\n",
       "      <th>Geographical Profile_Urban</th>\n",
       "      <th>EHS/GHS_No</th>\n",
       "      <th>EHS/GHS_Yes</th>\n",
       "      <th>Change of Power_No</th>\n",
       "      <th>Change of Power_Yes</th>\n",
       "      <th>Ideoogy _Center</th>\n",
       "      <th>Ideoogy _Center-Left</th>\n",
       "      <th>Ideoogy _Center-Right</th>\n",
       "      <th>Ideoogy _CenterLeft</th>\n",
       "    </tr>\n",
       "  </thead>\n",
       "  <tbody>\n",
       "    <tr>\n",
       "      <th>0</th>\n",
       "      <td>6.67</td>\n",
       "      <td>2</td>\n",
       "      <td>414838</td>\n",
       "      <td>0.053704</td>\n",
       "      <td>0.2715</td>\n",
       "      <td>3601880</td>\n",
       "      <td>20357.332510</td>\n",
       "      <td>1</td>\n",
       "      <td>0</td>\n",
       "      <td>1</td>\n",
       "      <td>...</td>\n",
       "      <td>1</td>\n",
       "      <td>0</td>\n",
       "      <td>0</td>\n",
       "      <td>1</td>\n",
       "      <td>1</td>\n",
       "      <td>0</td>\n",
       "      <td>0</td>\n",
       "      <td>0</td>\n",
       "      <td>0</td>\n",
       "      <td>1</td>\n",
       "    </tr>\n",
       "    <tr>\n",
       "      <th>1</th>\n",
       "      <td>5.04</td>\n",
       "      <td>1</td>\n",
       "      <td>545609</td>\n",
       "      <td>0.033351</td>\n",
       "      <td>0.0612</td>\n",
       "      <td>1136695</td>\n",
       "      <td>6868.199366</td>\n",
       "      <td>1</td>\n",
       "      <td>0</td>\n",
       "      <td>1</td>\n",
       "      <td>...</td>\n",
       "      <td>1</td>\n",
       "      <td>0</td>\n",
       "      <td>1</td>\n",
       "      <td>0</td>\n",
       "      <td>1</td>\n",
       "      <td>0</td>\n",
       "      <td>1</td>\n",
       "      <td>0</td>\n",
       "      <td>0</td>\n",
       "      <td>0</td>\n",
       "    </tr>\n",
       "    <tr>\n",
       "      <th>2</th>\n",
       "      <td>2.95</td>\n",
       "      <td>1</td>\n",
       "      <td>523939</td>\n",
       "      <td>0.032014</td>\n",
       "      <td>0.1864</td>\n",
       "      <td>2587265</td>\n",
       "      <td>11389.300570</td>\n",
       "      <td>1</td>\n",
       "      <td>0</td>\n",
       "      <td>0</td>\n",
       "      <td>...</td>\n",
       "      <td>0</td>\n",
       "      <td>0</td>\n",
       "      <td>0</td>\n",
       "      <td>1</td>\n",
       "      <td>1</td>\n",
       "      <td>0</td>\n",
       "      <td>1</td>\n",
       "      <td>0</td>\n",
       "      <td>0</td>\n",
       "      <td>0</td>\n",
       "    </tr>\n",
       "    <tr>\n",
       "      <th>3</th>\n",
       "      <td>4.38</td>\n",
       "      <td>1</td>\n",
       "      <td>364961</td>\n",
       "      <td>0.057198</td>\n",
       "      <td>0.0826</td>\n",
       "      <td>1079428</td>\n",
       "      <td>9363.410326</td>\n",
       "      <td>1</td>\n",
       "      <td>0</td>\n",
       "      <td>1</td>\n",
       "      <td>...</td>\n",
       "      <td>1</td>\n",
       "      <td>0</td>\n",
       "      <td>0</td>\n",
       "      <td>1</td>\n",
       "      <td>0</td>\n",
       "      <td>1</td>\n",
       "      <td>0</td>\n",
       "      <td>0</td>\n",
       "      <td>0</td>\n",
       "      <td>1</td>\n",
       "    </tr>\n",
       "    <tr>\n",
       "      <th>4</th>\n",
       "      <td>2.42</td>\n",
       "      <td>1</td>\n",
       "      <td>639163</td>\n",
       "      <td>0.054203</td>\n",
       "      <td>0.0844</td>\n",
       "      <td>1201350</td>\n",
       "      <td>10836.177000</td>\n",
       "      <td>1</td>\n",
       "      <td>0</td>\n",
       "      <td>1</td>\n",
       "      <td>...</td>\n",
       "      <td>0</td>\n",
       "      <td>0</td>\n",
       "      <td>0</td>\n",
       "      <td>1</td>\n",
       "      <td>0</td>\n",
       "      <td>1</td>\n",
       "      <td>0</td>\n",
       "      <td>0</td>\n",
       "      <td>1</td>\n",
       "      <td>0</td>\n",
       "    </tr>\n",
       "  </tbody>\n",
       "</table>\n",
       "<p>5 rows × 22 columns</p>\n",
       "</div>"
      ],
      "text/plain": [
       "   Duration (years)  Number of Province     GDP  3 years Average GDP Growth  \\\n",
       "0              6.67                   2  414838                    0.053704   \n",
       "1              5.04                   1  545609                    0.033351   \n",
       "2              2.95                   1  523939                    0.032014   \n",
       "3              4.38                   1  364961                    0.057198   \n",
       "4              2.42                   1  639163                    0.054203   \n",
       "\n",
       "      RDP  Population         c/km2  Road Category_National  \\\n",
       "0  0.2715     3601880  20357.332510                       1   \n",
       "1  0.0612     1136695   6868.199366                       1   \n",
       "2  0.1864     2587265  11389.300570                       1   \n",
       "3  0.0826     1079428   9363.410326                       1   \n",
       "4  0.0844     1201350  10836.177000                       1   \n",
       "\n",
       "   Road Category_Provincial  Type of Network Intervention_Modification  ...  \\\n",
       "0                         0                                          1  ...   \n",
       "1                         0                                          1  ...   \n",
       "2                         0                                          0  ...   \n",
       "3                         0                                          1  ...   \n",
       "4                         0                                          1  ...   \n",
       "\n",
       "   Geographical Profile_Rural  Geographical Profile_Urban  EHS/GHS_No  \\\n",
       "0                           1                           0           0   \n",
       "1                           1                           0           1   \n",
       "2                           0                           0           0   \n",
       "3                           1                           0           0   \n",
       "4                           0                           0           0   \n",
       "\n",
       "   EHS/GHS_Yes  Change of Power_No  Change of Power_Yes  Ideoogy _Center  \\\n",
       "0            1                   1                    0                0   \n",
       "1            0                   1                    0                1   \n",
       "2            1                   1                    0                1   \n",
       "3            1                   0                    1                0   \n",
       "4            1                   0                    1                0   \n",
       "\n",
       "   Ideoogy _Center-Left  Ideoogy _Center-Right   Ideoogy _CenterLeft  \n",
       "0                     0                       0                    1  \n",
       "1                     0                       0                    0  \n",
       "2                     0                       0                    0  \n",
       "3                     0                       0                    1  \n",
       "4                     0                       1                    0  \n",
       "\n",
       "[5 rows x 22 columns]"
      ]
     },
     "execution_count": 24,
     "metadata": {},
     "output_type": "execute_result"
    }
   ],
   "source": [
    "# Importing the datasets\n",
    "dataset= pd.read_csv(r'C:\\Users\\yosep\\Desktop\\ANN Keras training\\Database Final 3.csv', nrows=95)\n",
    "data_categories=dataset[['Duration (years)','Road Category','Type of Network Intervention','Number of Province','Geographical Profile','EHS/GHS','GDP','3 years Average GDP Growth','RDP','Change of Power','Ideoogy ','Population','c/km2']]\n",
    "data_encoded=pd.get_dummies(data_categories)\n",
    "print(data_encoded.columns)\n",
    "\n",
    "data_encoded.head()"
   ]
  },
  {
   "cell_type": "code",
   "execution_count": 45,
   "metadata": {},
   "outputs": [
    {
     "name": "stderr",
     "output_type": "stream",
     "text": [
      "C:\\Users\\yosep\\Anaconda3\\envs\\tensorflow\\lib\\site-packages\\sklearn\\preprocessing\\data.py:625: DataConversionWarning: Data with input dtype uint8, int64, float64 were all converted to float64 by StandardScaler.\n",
      "  return self.partial_fit(X, y)\n",
      "C:\\Users\\yosep\\Anaconda3\\envs\\tensorflow\\lib\\site-packages\\sklearn\\base.py:462: DataConversionWarning: Data with input dtype uint8, int64, float64 were all converted to float64 by StandardScaler.\n",
      "  return self.fit(X, **fit_params).transform(X)\n",
      "C:\\Users\\yosep\\Anaconda3\\envs\\tensorflow\\lib\\site-packages\\sklearn\\preprocessing\\data.py:625: DataConversionWarning: Data with input dtype uint8, int64, float64 were all converted to float64 by StandardScaler.\n",
      "  return self.partial_fit(X, y)\n",
      "C:\\Users\\yosep\\Anaconda3\\envs\\tensorflow\\lib\\site-packages\\sklearn\\base.py:462: DataConversionWarning: Data with input dtype uint8, int64, float64 were all converted to float64 by StandardScaler.\n",
      "  return self.fit(X, **fit_params).transform(X)\n"
     ]
    }
   ],
   "source": [
    "#Identify input features and output (X and y)\n",
    "X = data_encoded.drop(['Duration (years)'], axis=1)\n",
    "y = data_encoded.iloc[:, 0].values\n",
    "y = np.array(y).reshape((-1, 1))\n",
    "\n",
    "# Splitting the dataset into the Training set and Test set\n",
    "from sklearn.model_selection import train_test_split\n",
    "X_train, X_test, y_train, y_test= train_test_split(X, y, test_size= 0.1, random_state=0)\n",
    "\n",
    "from sklearn.preprocessing import StandardScaler\n",
    "sc = StandardScaler(1)\n",
    "features_train= sc.fit_transform(X_train)\n",
    "features_test= sc.fit_transform(X_test)\n",
    "target_train= sc.fit_transform(y_train)\n",
    "target_test= sc.fit_transform(y_test)"
   ]
  },
  {
   "cell_type": "code",
   "execution_count": 46,
   "metadata": {},
   "outputs": [],
   "source": [
    "# Create function returning a compiled network\n",
    "def create_network():\n",
    "    \n",
    "    # Start neural network\n",
    "    network = models.Sequential()\n",
    "\n",
    "    # Add fully connected layer with a ReLU activation function\n",
    "    network.add(layers.Dense(units=11, kernel_initializer='normal',activation='relu', input_shape=(21,)))\n",
    "    \n",
    "    # Add fully connected layer with a ReLU activation function\n",
    "    network.add(layers.Dense(units=11, kernel_initializer='normal',activation='relu'))\n",
    "\n",
    "    # Add fully connected layer without activation functon\n",
    "    network.add(layers.Dense(units=1, kernel_initializer='normal'))\n",
    "\n",
    "    # Compile neural network\n",
    "    network.compile(loss='mean_squared_error', # Regression Problem\n",
    "                    optimizer='adam',) # Adam\n",
    "    \n",
    "    # Return compiled network\n",
    "    return network"
   ]
  },
  {
   "cell_type": "code",
   "execution_count": 47,
   "metadata": {},
   "outputs": [],
   "source": [
    "# fix random seed for reproducibility\n",
    "seed = 7\n",
    "np.random.seed(seed)\n",
    "# evaluate model with standardized dataset\n",
    "estimator = KerasRegressor(build_fn=create_network, epochs=100, batch_size=5, verbose=0)"
   ]
  },
  {
   "cell_type": "code",
   "execution_count": 49,
   "metadata": {},
   "outputs": [
    {
     "name": "stdout",
     "output_type": "stream",
     "text": [
      "Results: -1.39 (0.48) MSE\n"
     ]
    }
   ],
   "source": [
    "# Evaluate neural network using three-fold cross-validation\n",
    "kfold = KFold(n_splits=5, random_state=seed)\n",
    "results = cross_val_score(estimator, features_train, target_train, cv=kfold)\n",
    "print(\"Results: %.2f (%.2f) MSE\" % (results.mean(), results.std()))"
   ]
  },
  {
   "cell_type": "code",
   "execution_count": 50,
   "metadata": {},
   "outputs": [
    {
     "data": {
      "text/plain": [
       "<keras.callbacks.History at 0x22540763b00>"
      ]
     },
     "execution_count": 50,
     "metadata": {},
     "output_type": "execute_result"
    }
   ],
   "source": [
    "estimator.fit(features_train,target_train)"
   ]
  },
  {
   "cell_type": "code",
   "execution_count": 52,
   "metadata": {},
   "outputs": [],
   "source": [
    "prediction=estimator.predict(features_test)"
   ]
  },
  {
   "cell_type": "code",
   "execution_count": 53,
   "metadata": {},
   "outputs": [
    {
     "data": {
      "text/plain": [
       "array([ 0.374793  ,  0.67883486, -1.0177767 , -0.32220381, -0.16510625,\n",
       "       -0.45045555,  0.41941306,  0.2629265 ,  0.3525635 , -0.35914278],\n",
       "      dtype=float32)"
      ]
     },
     "execution_count": 53,
     "metadata": {},
     "output_type": "execute_result"
    }
   ],
   "source": [
    "prediction"
   ]
  },
  {
   "cell_type": "code",
   "execution_count": 58,
   "metadata": {},
   "outputs": [
    {
     "name": "stdout",
     "output_type": "stream",
     "text": [
      "[[-0.6582452 ]\n",
      " [ 1.59425237]\n",
      " [-1.76837182]\n",
      " [ 0.30447871]\n",
      " [ 0.2492027 ]\n",
      " [ 0.74668682]\n",
      " [ 0.16168234]\n",
      " [-0.83328591]\n",
      " [ 1.20732027]\n",
      " [-1.00372029]]\n"
     ]
    }
   ],
   "source": [
    "print(target_test)"
   ]
  },
  {
   "cell_type": "code",
   "execution_count": null,
   "metadata": {},
   "outputs": [],
   "source": []
  }
 ],
 "metadata": {
  "kernelspec": {
   "display_name": "Python 3",
   "language": "python",
   "name": "python3"
  },
  "language_info": {
   "codemirror_mode": {
    "name": "ipython",
    "version": 3
   },
   "file_extension": ".py",
   "mimetype": "text/x-python",
   "name": "python",
   "nbconvert_exporter": "python",
   "pygments_lexer": "ipython3",
   "version": "3.6.8"
  }
 },
 "nbformat": 4,
 "nbformat_minor": 2
}
